{
 "cells": [
  {
   "cell_type": "code",
   "execution_count": 5,
   "id": "eaeec44c",
   "metadata": {},
   "outputs": [],
   "source": [
    "# load and optionally install required packages\n",
    "if (!require('pacman')) install.packages('pacman')\n",
    "pacman::p_load(\n",
    "    dplyr,\n",
    "    readr\n",
    ")"
   ]
  },
  {
   "cell_type": "code",
   "execution_count": 6,
   "id": "9de8172b",
   "metadata": {},
   "outputs": [
    {
     "name": "stderr",
     "output_type": "stream",
     "text": [
      "\u001b[1mRows: \u001b[22m\u001b[34m683071\u001b[39m \u001b[1mColumns: \u001b[22m\u001b[34m10\u001b[39m\n",
      "\u001b[36m──\u001b[39m \u001b[1mColumn specification\u001b[22m \u001b[36m────────────────────────────────────────────────────────\u001b[39m\n",
      "\u001b[1mDelimiter:\u001b[22m \",\"\n",
      "\u001b[31mchr\u001b[39m  (3): username, checked_by, user_lang\n",
      "\u001b[32mdbl\u001b[39m  (4): cap_english, cap_universal, raw_english, raw_universal\n",
      "\u001b[34mdttm\u001b[39m (2): created_at, updated_at\n",
      "\u001b[34mdate\u001b[39m (1): date_checked\n",
      "\n",
      "\u001b[36mℹ\u001b[39m Use `spec()` to retrieve the full column specification for this data.\n",
      "\u001b[36mℹ\u001b[39m Specify the column types or set `show_col_types = FALSE` to quiet this message.\n"
     ]
    }
   ],
   "source": [
    "data <- read_csv('data/raw/scored_twitter_usernames.csv')\n",
    "data.no_results <- data %>%\n",
    "filter(\n",
    "    cap_english == -999\n",
    ")\n",
    "data.results <- data %>%\n",
    "filter(\n",
    "    cap_english != -999\n",
    ")\n",
    "\n",
    "data.results <- data.results %>%\n",
    "select(\n",
    "    -username,\n",
    "    -created_at,\n",
    "    -updated_at\n",
    ") %>% mutate(\n",
    "    date_checked = factor(date_checked),\n",
    "    checked_by = factor(checked_by),\n",
    "    user_lang = factor(user_lang)\n",
    ")"
   ]
  },
  {
   "cell_type": "code",
   "execution_count": 7,
   "id": "216b1879",
   "metadata": {},
   "outputs": [
    {
     "name": "stdout",
     "output_type": "stream",
     "text": [
      "total records 683071\n",
      "records no results 130406\n",
      "records with results 552665"
     ]
    }
   ],
   "source": [
    "cat(paste('total records', data %>% nrow()))\n",
    "cat(paste('\\nrecords no results', data.no_results %>% nrow()))\n",
    "cat(paste('\\nrecords with results', data.results %>% nrow()))"
   ]
  },
  {
   "cell_type": "code",
   "execution_count": 8,
   "id": "a6fdb51f",
   "metadata": {},
   "outputs": [
    {
     "data": {
      "text/plain": [
       "     date_checked   \n",
       " 2022-06-23:145691  \n",
       " 2022-06-22:123864  \n",
       " 2022-06-21:116806  \n",
       " 2022-06-24: 67608  \n",
       " 2022-06-20: 60081  \n",
       " 2022-02-28: 17003  \n",
       " (Other)   : 21612  \n",
       "     checked_by    \n",
       " ellie    : 68139  \n",
       " leah     : 67610  \n",
       " maymay   : 64051  \n",
       " elizabeth: 64013  \n",
       " jon      : 64011  \n",
       " (Other)  :186226  \n",
       " NA's     : 38615  \n",
       "  cap_english    \n",
       " Min.   :0.0000  \n",
       " 1st Qu.:0.3062  \n",
       " Median :0.5540  \n",
       " Mean   :0.5328  \n",
       " 3rd Qu.:0.7760  \n",
       " Max.   :1.0000  \n",
       "                 \n",
       " cap_universal   \n",
       " Min.   :0.0000  \n",
       " 1st Qu.:0.3469  \n",
       " Median :0.5743  \n",
       " Mean   :0.5508  \n",
       " 3rd Qu.:0.7784  \n",
       " Max.   :1.0000  \n",
       "                 \n",
       "  raw_english    \n",
       " Min.   :0.0000  \n",
       " 1st Qu.:0.0400  \n",
       " Median :0.1300  \n",
       " Mean   :0.2312  \n",
       " 3rd Qu.:0.3000  \n",
       " Max.   :1.0000  \n",
       "                 \n",
       " raw_universal   \n",
       " Min.   :0.0000  \n",
       " 1st Qu.:0.0500  \n",
       " Median :0.1300  \n",
       " Mean   :0.2181  \n",
       " 3rd Qu.:0.2800  \n",
       " Max.   :1.0000  \n",
       "                 \n",
       "   user_lang     \n",
       " en     :495533  \n",
       " es     : 26673  \n",
       " pt     :  4700  \n",
       " tr     :  4502  \n",
       " ja     :  3301  \n",
       " fr     :  2179  \n",
       " (Other): 15777  "
      ]
     },
     "metadata": {},
     "output_type": "display_data"
    }
   ],
   "source": [
    "options(width=20);\n",
    "data.results %>% summary()"
   ]
  },
  {
   "cell_type": "code",
   "execution_count": 14,
   "id": "20a6675a",
   "metadata": {},
   "outputs": [
    {
     "name": "stdout",
     "output_type": "stream",
     "text": [
      "[1] \"cap_english sd 0.242042998141441\"\n",
      "[1] \"cap_universal sd 0.228377900402095\"\n",
      "[1] \"raw_english sd 0.256823573686277\"\n",
      "[1] \"raw_universal sd 0.238992086942721\"\n"
     ]
    }
   ],
   "source": [
    "print(paste('cap_english sd', data.results$cap_english %>% sd()))\n",
    "print(paste('cap_universal sd', data.results$cap_universal %>% sd()))\n",
    "print(paste('raw_english sd', data.results$raw_english %>% sd()))\n",
    "print(paste('raw_universal sd', data.results$raw_universal %>% sd()))"
   ]
  },
  {
   "cell_type": "code",
   "execution_count": null,
   "id": "23bee1b2",
   "metadata": {},
   "outputs": [],
   "source": []
  }
 ],
 "metadata": {
  "kernelspec": {
   "display_name": "R",
   "language": "R",
   "name": "ir"
  },
  "language_info": {
   "codemirror_mode": "r",
   "file_extension": ".r",
   "mimetype": "text/x-r-source",
   "name": "R",
   "pygments_lexer": "r",
   "version": "4.2.1"
  }
 },
 "nbformat": 4,
 "nbformat_minor": 5
}
