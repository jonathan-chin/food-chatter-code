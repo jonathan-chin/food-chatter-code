{
 "cells": [
  {
   "cell_type": "code",
   "execution_count": 5,
   "id": "fc2a18ba",
   "metadata": {},
   "outputs": [],
   "source": [
    "# load and optionally install required packages\n",
    "if (!require('pacman')) install.packages('pacman')\n",
    "pacman::p_load(\n",
    "    dplyr,\n",
    "    readr,\n",
    "#    reshape2,\n",
    "    SnowballC,\n",
    "    stopwords,\n",
    "    stringr,\n",
    "    textclean,\n",
    "#    tidytext,\n",
    "#    tidyverse,\n",
    "    tm,\n",
    "    textreg,\n",
    "#    topicdoc,\n",
    "#    topicmodels,\n",
    "    qdap,\n",
    "    qdapRegex\n",
    ")"
   ]
  },
  {
   "cell_type": "code",
   "execution_count": 6,
   "id": "b0694aa6",
   "metadata": {},
   "outputs": [
    {
     "name": "stderr",
     "output_type": "stream",
     "text": [
      "\u001b[1mRows: \u001b[22m\u001b[34m80280\u001b[39m \u001b[1mColumns: \u001b[22m\u001b[34m1\u001b[39m\n",
      "\u001b[36m──\u001b[39m \u001b[1mColumn specification\u001b[22m \u001b[36m───────────────────────────────────────────────────────────────────────────────────────────────────────────────────────────────────────────────\u001b[39m\n",
      "\u001b[1mDelimiter:\u001b[22m \",\"\n",
      "\u001b[31mchr\u001b[39m (1): content\n",
      "\n",
      "\u001b[36mℹ\u001b[39m Use `spec()` to retrieve the full column specification for this data.\n",
      "\u001b[36mℹ\u001b[39m Specify the column types or set `show_col_types = FALSE` to quiet this message.\n"
     ]
    }
   ],
   "source": [
    "data <- read_csv('./data/generated/debotted_combined_no_rts.csv')"
   ]
  },
  {
   "cell_type": "code",
   "execution_count": 7,
   "id": "367414e7",
   "metadata": {},
   "outputs": [
    {
     "name": "stderr",
     "output_type": "stream",
     "text": [
      "Warning message:\n",
      "“Unknown or uninitialised column: `cluster`.”\n"
     ]
    }
   ],
   "source": [
    "clusters <- unique(data$cluster)"
   ]
  },
  {
   "cell_type": "code",
   "execution_count": 9,
   "id": "be3f20e7",
   "metadata": {},
   "outputs": [],
   "source": [
    "clean_and_tokenize <- function(text, language){\n",
    "    payload <- text %>%\n",
    "        str_replace('^RT', '') %>%\n",
    "        str_to_lower() %>%\n",
    "        replace_contraction() %>%\n",
    "        #replace_emoji() # replacements have spaces\n",
    "        #replace_emoticons()\n",
    "        str_replace_all(pattern = '#([a-z0-9])', replacement = function(text){paste0('hashtag',gsub('^#', '', text),'hashtag')}) %>% # place 'hashtag' before and after to circumvent punctuation filter and stemming\n",
    "        rm_url() %>%\n",
    "        str_remove_all(pattern = '@\\\\w+') %>%\n",
    "        str_remove_all(pattern = '\\\\$?\\\\d+\\\\w*') %>%\n",
    "        str_replace_all(pattern = '[[:punct:]]', replacement = '') %>%\n",
    "        str_squish() %>%\n",
    "        str_trim() %>%\n",
    "        stemDocument(language = language) %>%\n",
    "        qdap::rm_stopwords(tm::stopwords(language)) %>%\n",
    "        sapply(paste, collapse=\" \") %>%\n",
    "        str_replace_all(pattern = 'hashtag(\\\\w+)hashtag', replacement = '#\\\\1') # convert hashtags back\n",
    "\n",
    "\n",
    "    # convert corpus to document term matrix\n",
    "    return(payload);\n",
    "}\n",
    "\n",
    "for(cluster_name in clusters){\n",
    "    cluster_data <- data %>% filter(cluster == cluster_name)\n",
    "    tokenized <- clean_and_tokenize(cluster_data$content, 'english')\n",
    "    cluster_data.tokenized <- cluster_data %>% mutate(tokenized = tokenized)\n",
    "    cluster_data.tokenized %>% write_csv(paste0('./data/generated/data_with_tokenized_no_rts_', cluster_name, '.csv'))\n",
    "    cat(tokenized %>% paste(collapse = '\\n'), file = paste0('./data/generated/tokenized_no_rts_', cluster_name, '.txt'))\n",
    "    ### write file\n",
    "}"
   ]
  }
 ],
 "metadata": {
  "kernelspec": {
   "display_name": "R",
   "language": "R",
   "name": "ir"
  },
  "language_info": {
   "codemirror_mode": "r",
   "file_extension": ".r",
   "mimetype": "text/x-r-source",
   "name": "R",
   "pygments_lexer": "r",
   "version": "4.2.1"
  }
 },
 "nbformat": 4,
 "nbformat_minor": 5
}
