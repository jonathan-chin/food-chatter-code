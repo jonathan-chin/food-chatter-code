{
 "cells": [
  {
   "cell_type": "code",
   "execution_count": 7,
   "id": "3428858f",
   "metadata": {},
   "outputs": [],
   "source": [
    "# load and optionally install required packages\n",
    "if (!require('pacman')) install.packages('pacman')\n",
    "pacman::p_load(\n",
    "    dplyr,\n",
    "    readr,\n",
    "    scales\n",
    ")"
   ]
  },
  {
   "cell_type": "code",
   "execution_count": 8,
   "id": "834c9c03",
   "metadata": {},
   "outputs": [
    {
     "name": "stderr",
     "output_type": "stream",
     "text": [
      "\u001b[1mRows: \u001b[22m\u001b[34m129101\u001b[39m \u001b[1mColumns: \u001b[22m\u001b[34m5\u001b[39m\n",
      "\u001b[36m──\u001b[39m \u001b[1mColumn specification\u001b[22m \u001b[36m─────────────────────────────────────────────────────────────────────────────────────────────────────────────────\u001b[39m\n",
      "\u001b[1mDelimiter:\u001b[22m \",\"\n",
      "\u001b[31mchr\u001b[39m (3): url, content, published\n",
      "\u001b[32mdbl\u001b[39m (2): most_likely_cluster, confidence\n",
      "\n",
      "\u001b[36mℹ\u001b[39m Use `spec()` to retrieve the full column specification for this data.\n",
      "\u001b[36mℹ\u001b[39m Specify the column types or set `show_col_types = FALSE` to quiet this message.\n"
     ]
    }
   ],
   "source": [
    "data <- read_csv('./data/generated/content_with_most_likely_cluster.csv')"
   ]
  },
  {
   "cell_type": "code",
   "execution_count": 9,
   "id": "f2729ee0",
   "metadata": {},
   "outputs": [
    {
     "data": {
      "text/html": [
       "<table class=\"dataframe\">\n",
       "<caption>A tibble: 6 × 5</caption>\n",
       "<thead>\n",
       "\t<tr><th scope=col>url</th><th scope=col>content</th><th scope=col>published</th><th scope=col>most_likely_cluster</th><th scope=col>confidence</th></tr>\n",
       "\t<tr><th scope=col>&lt;chr&gt;</th><th scope=col>&lt;chr&gt;</th><th scope=col>&lt;chr&gt;</th><th scope=col>&lt;dbl&gt;</th><th scope=col>&lt;dbl&gt;</th></tr>\n",
       "</thead>\n",
       "<tbody>\n",
       "\t<tr><td>http://twitter.com/Masbia/status/1345505354847842304         </td><td>RT : Just gave an end of year donation to Kosher Soup Kitchens, doing the vital work of feeding the needy. Due to the crises this year, demand for their services increased by 500%! You have until midnight to make a tax deductible donation for 2020.                              </td><td>01/02/21 6:00:49 PM</td><td>26</td><td>0.9956507</td></tr>\n",
       "\t<tr><td><span style=white-space:pre-wrap>http://twitter.com/chien_kwok/status/1257658103438475264     </span></td><td>What happened in LES wasn’t acceptable. Racism isn’t acceptable towards any group. In Chinatown, Chinese grocers were arrested after being attacked &amp; racially abused by black shoppers who didn’t wear masks &amp; refused to leave. At end, they still didn’t need to wear masks. #APAHM</td><td>05/05/20 9:07:12 AM</td><td>11</td><td>0.9993580</td></tr>\n",
       "\t<tr><td>http://twitter.com/Charuhans9/status/1301332896133689345     </td><td>RT : The alleged accomplices of the terror attacks on Charlie Hebdo and a kosher grocery store went on trial Wednesday, a day after the satirical magazine republished cartoons of the Prophet Muhammad that triggered the attackers five years ago                                   </td><td>09/02/20 9:35:14 PM</td><td>11</td><td>1.0000000</td></tr>\n",
       "\t<tr><td>http://twitter.com/CatherineMClar2/status/1339893030657155074</td><td><span style=white-space:pre-wrap>RT : . #fallfest finale-2 session webinar on #Bronx #communityservices w essential services partner ⁦⁩ 40 viewers in total attended the English &amp; Spanish sessions covering food pantry, Snap, #financialcounseling #evictionprevention &amp; #affordablehousing programs                   </span></td><td>12/18/20 6:19:27 AM</td><td>34</td><td>1.0000000</td></tr>\n",
       "\t<tr><td>http://twitter.com/DavidGMcGreevy/status/1282778497396674565 </td><td>Can't really explain how happy it makes me that my Spanish grocery store finally stocks this. if I had room in my tiny fridge, I would have bought them out!                                                                                                                          </td><td>07/13/20 4:46:41 PM</td><td>44</td><td>0.5367874</td></tr>\n",
       "\t<tr><td><span style=white-space:pre-wrap>http://twitter.com/money_melle/status/1374492548882853898    </span></td><td><span style=white-space:pre-wrap>I spent hella on groceries &amp; stopped by that halal truck before coming home. Cause I’m definitely not about to cook after shopping. 😂                                                                                                                                                </span></td><td>03/23/21 6:45:35 PM</td><td>11</td><td>0.9991343</td></tr>\n",
       "</tbody>\n",
       "</table>\n"
      ],
      "text/latex": [
       "A tibble: 6 × 5\n",
       "\\begin{tabular}{lllll}\n",
       " url & content & published & most\\_likely\\_cluster & confidence\\\\\n",
       " <chr> & <chr> & <chr> & <dbl> & <dbl>\\\\\n",
       "\\hline\n",
       "\t http://twitter.com/Masbia/status/1345505354847842304          & RT : Just gave an end of year donation to Kosher Soup Kitchens, doing the vital work of feeding the needy. Due to the crises this year, demand for their services increased by 500\\%! You have until midnight to make a tax deductible donation for 2020.                               & 01/02/21 6:00:49 PM & 26 & 0.9956507\\\\\n",
       "\t http://twitter.com/chien\\_kwok/status/1257658103438475264      & What happened in LES wasn’t acceptable. Racism isn’t acceptable towards any group. In Chinatown, Chinese grocers were arrested after being attacked \\& racially abused by black shoppers who didn’t wear masks \\& refused to leave. At end, they still didn’t need to wear masks. \\#APAHM & 05/05/20 9:07:12 AM & 11 & 0.9993580\\\\\n",
       "\t http://twitter.com/Charuhans9/status/1301332896133689345      & RT : The alleged accomplices of the terror attacks on Charlie Hebdo and a kosher grocery store went on trial Wednesday, a day after the satirical magazine republished cartoons of the Prophet Muhammad that triggered the attackers five years ago                                    & 09/02/20 9:35:14 PM & 11 & 1.0000000\\\\\n",
       "\t http://twitter.com/CatherineMClar2/status/1339893030657155074 & RT : . \\#fallfest finale-2 session webinar on \\#Bronx \\#communityservices w essential services partner ⁦⁩ 40 viewers in total attended the English \\& Spanish sessions covering food pantry, Snap, \\#financialcounseling \\#evictionprevention \\& \\#affordablehousing programs                    & 12/18/20 6:19:27 AM & 34 & 1.0000000\\\\\n",
       "\t http://twitter.com/DavidGMcGreevy/status/1282778497396674565  & Can't really explain how happy it makes me that my Spanish grocery store finally stocks this. if I had room in my tiny fridge, I would have bought them out!                                                                                                                           & 07/13/20 4:46:41 PM & 44 & 0.5367874\\\\\n",
       "\t http://twitter.com/money\\_melle/status/1374492548882853898     & I spent hella on groceries \\& stopped by that halal truck before coming home. Cause I’m definitely not about to cook after shopping. 😂                                                                                                                                                 & 03/23/21 6:45:35 PM & 11 & 0.9991343\\\\\n",
       "\\end{tabular}\n"
      ],
      "text/markdown": [
       "\n",
       "A tibble: 6 × 5\n",
       "\n",
       "| url &lt;chr&gt; | content &lt;chr&gt; | published &lt;chr&gt; | most_likely_cluster &lt;dbl&gt; | confidence &lt;dbl&gt; |\n",
       "|---|---|---|---|---|\n",
       "| http://twitter.com/Masbia/status/1345505354847842304          | RT : Just gave an end of year donation to Kosher Soup Kitchens, doing the vital work of feeding the needy. Due to the crises this year, demand for their services increased by 500%! You have until midnight to make a tax deductible donation for 2020.                               | 01/02/21 6:00:49 PM | 26 | 0.9956507 |\n",
       "| http://twitter.com/chien_kwok/status/1257658103438475264      | What happened in LES wasn’t acceptable. Racism isn’t acceptable towards any group. In Chinatown, Chinese grocers were arrested after being attacked &amp; racially abused by black shoppers who didn’t wear masks &amp; refused to leave. At end, they still didn’t need to wear masks. #APAHM | 05/05/20 9:07:12 AM | 11 | 0.9993580 |\n",
       "| http://twitter.com/Charuhans9/status/1301332896133689345      | RT : The alleged accomplices of the terror attacks on Charlie Hebdo and a kosher grocery store went on trial Wednesday, a day after the satirical magazine republished cartoons of the Prophet Muhammad that triggered the attackers five years ago                                    | 09/02/20 9:35:14 PM | 11 | 1.0000000 |\n",
       "| http://twitter.com/CatherineMClar2/status/1339893030657155074 | RT : . #fallfest finale-2 session webinar on #Bronx #communityservices w essential services partner ⁦⁩ 40 viewers in total attended the English &amp; Spanish sessions covering food pantry, Snap, #financialcounseling #evictionprevention &amp; #affordablehousing programs                    | 12/18/20 6:19:27 AM | 34 | 1.0000000 |\n",
       "| http://twitter.com/DavidGMcGreevy/status/1282778497396674565  | Can't really explain how happy it makes me that my Spanish grocery store finally stocks this. if I had room in my tiny fridge, I would have bought them out!                                                                                                                           | 07/13/20 4:46:41 PM | 44 | 0.5367874 |\n",
       "| http://twitter.com/money_melle/status/1374492548882853898     | I spent hella on groceries &amp; stopped by that halal truck before coming home. Cause I’m definitely not about to cook after shopping. 😂                                                                                                                                                 | 03/23/21 6:45:35 PM | 11 | 0.9991343 |\n",
       "\n"
      ],
      "text/plain": [
       "  url                                                          \n",
       "1 http://twitter.com/Masbia/status/1345505354847842304         \n",
       "2 http://twitter.com/chien_kwok/status/1257658103438475264     \n",
       "3 http://twitter.com/Charuhans9/status/1301332896133689345     \n",
       "4 http://twitter.com/CatherineMClar2/status/1339893030657155074\n",
       "5 http://twitter.com/DavidGMcGreevy/status/1282778497396674565 \n",
       "6 http://twitter.com/money_melle/status/1374492548882853898    \n",
       "  content                                                                                                                                                                                                                                                                               \n",
       "1 RT : Just gave an end of year donation to Kosher Soup Kitchens, doing the vital work of feeding the needy. Due to the crises this year, demand for their services increased by 500%! You have until midnight to make a tax deductible donation for 2020.                              \n",
       "2 What happened in LES wasn’t acceptable. Racism isn’t acceptable towards any group. In Chinatown, Chinese grocers were arrested after being attacked & racially abused by black shoppers who didn’t wear masks & refused to leave. At end, they still didn’t need to wear masks. #APAHM\n",
       "3 RT : The alleged accomplices of the terror attacks on Charlie Hebdo and a kosher grocery store went on trial Wednesday, a day after the satirical magazine republished cartoons of the Prophet Muhammad that triggered the attackers five years ago                                   \n",
       "4 RT : . #fallfest finale-2 session webinar on #Bronx #communityservices w essential services partner ⁦⁩ 40 viewers in total attended the English & Spanish sessions covering food pantry, Snap, #financialcounseling #evictionprevention & #affordablehousing programs                   \n",
       "5 Can't really explain how happy it makes me that my Spanish grocery store finally stocks this. if I had room in my tiny fridge, I would have bought them out!                                                                                                                          \n",
       "6 I spent hella on groceries & stopped by that halal truck before coming home. Cause I’m definitely not about to cook after shopping. 😂                                                                                                                                                \n",
       "  published           most_likely_cluster confidence\n",
       "1 01/02/21 6:00:49 PM 26                  0.9956507 \n",
       "2 05/05/20 9:07:12 AM 11                  0.9993580 \n",
       "3 09/02/20 9:35:14 PM 11                  1.0000000 \n",
       "4 12/18/20 6:19:27 AM 34                  1.0000000 \n",
       "5 07/13/20 4:46:41 PM 44                  0.5367874 \n",
       "6 03/23/21 6:45:35 PM 11                  0.9991343 "
      ]
     },
     "metadata": {},
     "output_type": "display_data"
    }
   ],
   "source": [
    "head(data)"
   ]
  },
  {
   "cell_type": "code",
   "execution_count": 10,
   "id": "59e66fd3",
   "metadata": {},
   "outputs": [],
   "source": [
    "for(index in 0:49){\n",
    "    data %>%\n",
    "    filter(most_likely_cluster == index) %>%\n",
    "    write_csv(paste0('./data/generated/gsdmm_scored_topic_', index, '.csv'))\n",
    "}"
   ]
  },
  {
   "cell_type": "code",
   "execution_count": 11,
   "id": "5f7b5a98",
   "metadata": {},
   "outputs": [],
   "source": [
    "filter_clusters = c(1, 40, 36, 5, 2, 4, 11, 31, 38, 15, 16, 26, 34, 42, 24, 49, 37, 18, 39, 44, 8, 27)\n",
    "data.filtered <- data %>%\n",
    "filter(most_likely_cluster %in% filter_clusters) %>%\n",
    "mutate(theme_number = case_when(\n",
    "        most_likely_cluster == 1 ~ 1,\n",
    "        most_likely_cluster == 40 ~ 1,\n",
    "        most_likely_cluster == 36 ~ 1,\n",
    "        most_likely_cluster == 5 ~ 1,\n",
    "        most_likely_cluster == 2 ~ 2,\n",
    "        most_likely_cluster == 4 ~ 2,\n",
    "        most_likely_cluster == 11 ~ 3,\n",
    "        most_likely_cluster == 31 ~ 3,\n",
    "        most_likely_cluster == 38 ~ 3,\n",
    "        most_likely_cluster == 26 ~ 3,\n",
    "        most_likely_cluster == 34 ~ 3,\n",
    "        most_likely_cluster == 42 ~ 3,\n",
    "        most_likely_cluster == 24 ~ 3,\n",
    "        most_likely_cluster == 49 ~ 3,\n",
    "        most_likely_cluster == 15 ~ 4,\n",
    "        most_likely_cluster == 16 ~ 4,\n",
    "        most_likely_cluster == 37 ~ 5,\n",
    "        most_likely_cluster == 18 ~ 5,\n",
    "        most_likely_cluster == 39 ~ 5,\n",
    "        most_likely_cluster == 44 ~ 6,\n",
    "        most_likely_cluster == 8 ~ 6,\n",
    "        most_likely_cluster == 27 ~ 6\n",
    "    )\n",
    ")\n",
    "data.filtered %>% write_csv('./data/generated/gsdmm_scored_by_theme.csv')"
   ]
  }
 ],
 "metadata": {
  "kernelspec": {
   "display_name": "R",
   "language": "R",
   "name": "ir"
  },
  "language_info": {
   "codemirror_mode": "r",
   "file_extension": ".r",
   "mimetype": "text/x-r-source",
   "name": "R",
   "pygments_lexer": "r",
   "version": "4.2.1"
  }
 },
 "nbformat": 4,
 "nbformat_minor": 5
}
