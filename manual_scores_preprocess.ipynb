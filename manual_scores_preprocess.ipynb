{
 "cells": [
  {
   "cell_type": "code",
   "execution_count": 1,
   "id": "1c68ebfd",
   "metadata": {},
   "outputs": [
    {
     "name": "stderr",
     "output_type": "stream",
     "text": [
      "Loading required package: pacman\n",
      "\n"
     ]
    }
   ],
   "source": [
    "# load and optionally install required packages\n",
    "if (!require('pacman')) install.packages('pacman')\n",
    "pacman::p_load(\n",
    "    dplyr,\n",
    "    irr,\n",
    "    readr,\n",
    "    scales,\n",
    "    tidyr\n",
    ")"
   ]
  },
  {
   "cell_type": "code",
   "execution_count": 2,
   "id": "a0472456",
   "metadata": {
    "scrolled": false
   },
   "outputs": [
    {
     "name": "stderr",
     "output_type": "stream",
     "text": [
      "\u001b[1mRows: \u001b[22m\u001b[34m703\u001b[39m \u001b[1mColumns: \u001b[22m\u001b[34m6\u001b[39m\n",
      "\u001b[36m──\u001b[39m \u001b[1mColumn specification\u001b[22m \u001b[36m────────────────────────────────────────────────────────────────────────────────────────────────────────────────────\u001b[39m\n",
      "\u001b[1mDelimiter:\u001b[22m \",\"\n",
      "\u001b[31mchr\u001b[39m  (4): by, classification, id, username\n",
      "\u001b[34mdttm\u001b[39m (2): created_at, updated_at\n",
      "\n",
      "\u001b[36mℹ\u001b[39m Use `spec()` to retrieve the full column specification for this data.\n",
      "\u001b[36mℹ\u001b[39m Specify the column types or set `show_col_types = FALSE` to quiet this message.\n"
     ]
    }
   ],
   "source": [
    "# load manually tagged usernames\n",
    "data.raw <- read_csv('./data/raw/manual_scored_twitter_usernames.csv')"
   ]
  },
  {
   "cell_type": "code",
   "execution_count": 3,
   "id": "c05d4362",
   "metadata": {},
   "outputs": [],
   "source": [
    "# throw out votes before 2022-03-05 since that was a practice round\n",
    "# also filter out NA username as that was an accdident\n",
    "data.truncated <- data.raw %>%\n",
    "    mutate(\n",
    "        created_at_date = as.Date(created_at)\n",
    "    ) %>%\n",
    "    filter(\n",
    "        created_at_date > '2022-03-05' &\n",
    "        !is.na(username)\n",
    "    )"
   ]
  },
  {
   "cell_type": "code",
   "execution_count": 4,
   "id": "b2bd30fd",
   "metadata": {},
   "outputs": [],
   "source": [
    "juan <- data.truncated %>% filter(by == 'Juan Pablo') %>% spread(by, username)\n",
    "ellie <- data.truncated %>% filter(by == 'ellie') %>% spread(by, username)\n",
    "elizabeth <- data.truncated %>% filter(by == 'Elizabeth') %>% spread(by, username)\n",
    "data.merged <- merge(juan, ellie, by.x = 'Juan Pablo', by.y = 'ellie') %>%\n",
    "    mutate(\n",
    "        username = `Juan Pablo`,\n",
    "        juan_pablo = classification.x,\n",
    "        ellie = classification.y\n",
    "    ) %>%\n",
    "    select(\n",
    "        username,\n",
    "        juan_pablo,\n",
    "        ellie\n",
    "    )\n",
    "data.merged <- merge(data.merged, elizabeth, by.x = 'username', by.y = 'Elizabeth') %>%\n",
    "    mutate(\n",
    "        elizabeth = classification\n",
    "    ) %>%\n",
    "    select(\n",
    "        username,\n",
    "        juan_pablo,\n",
    "        ellie,\n",
    "        elizabeth\n",
    "    )"
   ]
  },
  {
   "cell_type": "code",
   "execution_count": 5,
   "id": "fc00092b",
   "metadata": {
    "scrolled": false
   },
   "outputs": [
    {
     "data": {
      "text/plain": [
       " Light's Kappa for m Raters\n",
       "\n",
       " Subjects = 100 \n",
       "   Raters = 3 \n",
       "    Kappa = -0.0332 \n",
       "\n",
       "        z = -0.0562 \n",
       "  p-value = 0.955 "
      ]
     },
     "metadata": {},
     "output_type": "display_data"
    }
   ],
   "source": [
    "kappam.light(data.merged %>% select(-username))"
   ]
  },
  {
   "cell_type": "code",
   "execution_count": 6,
   "id": "d305fb9d",
   "metadata": {},
   "outputs": [],
   "source": [
    "data.votes <- data.truncated %>%\n",
    "    mutate(\n",
    "        bot_vote = ifelse(classification == 'bot', 1, 0)\n",
    "    ) %>%\n",
    "    group_by(username) %>%\n",
    "    summarise(\n",
    "        bot_vote_count = sum(bot_vote),\n",
    "        total_votes = n()\n",
    "    )"
   ]
  },
  {
   "cell_type": "code",
   "execution_count": 7,
   "id": "aeb6d776",
   "metadata": {},
   "outputs": [],
   "source": [
    "data <- data.votes %>%\n",
    "    mutate(\n",
    "        think_is_bot = bot_vote_count >= total_votes / 2\n",
    "    ) %>%\n",
    "    arrange(desc(think_is_bot))"
   ]
  },
  {
   "cell_type": "code",
   "execution_count": 9,
   "id": "2a3010d0",
   "metadata": {},
   "outputs": [
    {
     "name": "stdout",
     "output_type": "stream",
     "text": [
      "count think_is_bot: 16 \n",
      "percent think_is_bot: 11% \n",
      "count think_is_human: 134 \n",
      "percent think_is_human: 89% \n"
     ]
    }
   ],
   "source": [
    "count_think_is_bot <- data %>% filter(think_is_bot) %>% nrow()\n",
    "count_think_is_human <- data %>% filter(!think_is_bot) %>% nrow()\n",
    "total_usernames <- data %>% nrow()\n",
    "\n",
    "cat(paste('count think_is_bot:', count_think_is_bot, '\\n'))\n",
    "cat(paste('percent think_is_bot:', percent(count_think_is_bot / total_usernames), '\\n'))\n",
    "cat(paste('count think_is_human:', count_think_is_human, '\\n'))\n",
    "cat(paste('percent think_is_human:', percent(count_think_is_human / total_usernames), '\\n'))"
   ]
  },
  {
   "cell_type": "code",
   "execution_count": 12,
   "id": "8eeef41d",
   "metadata": {},
   "outputs": [],
   "source": [
    "data %>% write_csv('./data/generated/coalesced_manual_scored_twitter_usernames.csv')"
   ]
  }
 ],
 "metadata": {
  "kernelspec": {
   "display_name": "R",
   "language": "R",
   "name": "ir"
  },
  "language_info": {
   "codemirror_mode": "r",
   "file_extension": ".r",
   "mimetype": "text/x-r-source",
   "name": "R",
   "pygments_lexer": "r",
   "version": "4.2.1"
  }
 },
 "nbformat": 4,
 "nbformat_minor": 5
}
