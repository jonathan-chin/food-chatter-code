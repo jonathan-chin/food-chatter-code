{
 "cells": [
  {
   "cell_type": "code",
   "execution_count": 1,
   "id": "4d404fa1",
   "metadata": {},
   "outputs": [
    {
     "name": "stderr",
     "output_type": "stream",
     "text": [
      "Loading required package: pacman\n",
      "\n"
     ]
    }
   ],
   "source": [
    "# load and optionally install required packages\n",
    "if (!require('pacman')) install.packages('pacman')\n",
    "pacman::p_load(\n",
    "    dplyr,\n",
    "    readr\n",
    ")"
   ]
  },
  {
   "cell_type": "code",
   "execution_count": 2,
   "id": "76560646",
   "metadata": {},
   "outputs": [
    {
     "name": "stderr",
     "output_type": "stream",
     "text": [
      "\u001b[1mRows: \u001b[22m\u001b[34m683071\u001b[39m \u001b[1mColumns: \u001b[22m\u001b[34m1\u001b[39m\n",
      "\u001b[36m──\u001b[39m \u001b[1mColumn specification\u001b[22m \u001b[36m────────────────────────────────────────────────────────\u001b[39m\n",
      "\u001b[1mDelimiter:\u001b[22m \",\"\n",
      "\u001b[31mchr\u001b[39m (1): url\n",
      "\n",
      "\u001b[36mℹ\u001b[39m Use `spec()` to retrieve the full column specification for this data.\n",
      "\u001b[36mℹ\u001b[39m Specify the column types or set `show_col_types = FALSE` to quiet this message.\n"
     ]
    }
   ],
   "source": [
    "urls <- read_csv('data/generated/urls.csv')"
   ]
  },
  {
   "cell_type": "code",
   "execution_count": 12,
   "id": "e6bde221",
   "metadata": {},
   "outputs": [],
   "source": [
    "set.seed(98761342)\n",
    "sample <- urls %>% slice_sample(n = nrow(urls) * 0.002)"
   ]
  },
  {
   "cell_type": "code",
   "execution_count": 15,
   "id": "5d7f55ef",
   "metadata": {},
   "outputs": [],
   "source": [
    "sample %>% write_csv('data/generated/mturk_urls.csv')"
   ]
  }
 ],
 "metadata": {
  "kernelspec": {
   "display_name": "R",
   "language": "R",
   "name": "ir"
  },
  "language_info": {
   "codemirror_mode": "r",
   "file_extension": ".r",
   "mimetype": "text/x-r-source",
   "name": "R",
   "pygments_lexer": "r",
   "version": "4.1.2"
  }
 },
 "nbformat": 4,
 "nbformat_minor": 5
}
