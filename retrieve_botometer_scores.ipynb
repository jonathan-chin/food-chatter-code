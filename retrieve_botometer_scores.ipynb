{
 "cells": [
  {
   "cell_type": "code",
   "execution_count": 2,
   "id": "07f671f3",
   "metadata": {},
   "outputs": [],
   "source": [
    "# retrieve botometer scores for any unprocessed twitter usernames"
   ]
  },
  {
   "cell_type": "code",
   "execution_count": 3,
   "id": "e6aaad23",
   "metadata": {},
   "outputs": [
    {
     "name": "stderr",
     "output_type": "stream",
     "text": [
      "Loading required package: pacman\n",
      "\n"
     ]
    }
   ],
   "source": [
    "# load and optionally install required packages\n",
    "if (!require('pacman')) install.packages('pacman')\n",
    "pacman::p_load(\n",
    "    dotenv,\n",
    "    dplyr,\n",
    "    httr,\n",
    "    jsonlite,\n",
    "    readr,\n",
    "    RJSONIO,\n",
    "    tictoc,\n",
    "    xml2\n",
    ")"
   ]
  },
  {
   "cell_type": "code",
   "execution_count": 4,
   "id": "bc372578",
   "metadata": {},
   "outputs": [],
   "source": [
    "# set necessary constants\n",
    "load_dot_env()\n",
    "TODAY <- format(Sys.Date(), \"%Y-%m-%d\")\n",
    "MAX_CALLS_PER_DAY <- 17000\n",
    "BATCH_CALLS_LIMIT <- 1000\n",
    "BOTOMETER_API_KEY <- Sys.getenv(\"BOTOMETER_API_KEY\")\n",
    "TWITTER_APP_CONSUMER_KEY <- Sys.getenv(\"TWITTER_APP_CONSUMER_KEY\")\n",
    "TWITTER_APP_CONSUMER_SECRET <- Sys.getenv(\"TWITTER_APP_CONSUMER_SECRET\")\n",
    "TWITTER_APP_ACCESS_TOKEN <- Sys.getenv(\"TWITTER_APP_ACCESS_TOKEN\")\n",
    "TWITTER_APP_ACCESS_SECRET <- Sys.getenv(\"TWITTER_APP_ACCESS_SECRET\")"
   ]
  },
  {
   "cell_type": "code",
   "execution_count": 5,
   "id": "1387827b",
   "metadata": {},
   "outputs": [
    {
     "name": "stdout",
     "output_type": "stream",
     "text": [
      "no usernames left to check"
     ]
    }
   ],
   "source": [
    "# load necessary files\n",
    "\n",
    "# get memoized twitter botometer scores\n",
    "twitter_usernames_botometer_path = './data/generated/twitter/usernames_botometer.csv'\n",
    "if(!file.exists(twitter_usernames_botometer_path)){\n",
    "    # create temporary tibble\n",
    "    tibble(\n",
    "        username = character(),\n",
    "        score_cap_english = numeric(),\n",
    "        score_cap_universal = numeric(),\n",
    "        score_raw_english = numeric(),\n",
    "        score_raw_universal = numeric(),\n",
    "        date_checked = character()\n",
    "    ) %>%\n",
    "    write_csv(twitter_usernames_botometer_path)\n",
    "}\n",
    "\n",
    "# get remaining usernames we need to check\n",
    "twitter_usernames <- read_csv(twitter_usernames_botometer_path, col_types = cols(\n",
    "        username = col_character(),\n",
    "        score_cap_english = col_number(),\n",
    "        score_cap_universal = col_number(),\n",
    "        score_raw_english = col_number(),\n",
    "        score_raw_universal = col_number(),\n",
    "        date_checked = col_character()\n",
    "    ))\n",
    "unchecked_twitter_usernames_count <- twitter_usernames %>% filter(is.na(date_checked)) %>% nrow()\n",
    "if(unchecked_twitter_usernames_count == 0){\n",
    "    cat('no usernames left to check')\n",
    "    quit()\n",
    "}"
   ]
  },
  {
   "cell_type": "code",
   "execution_count": 6,
   "id": "900effc1",
   "metadata": {},
   "outputs": [],
   "source": [
    "# load call log\n",
    "log_path = './data/generated/twitter/botometer_log.csv'\n",
    "if(!file.exists(log_path)){\n",
    "    # create temporary tibble\n",
    "    tibble(\n",
    "        date = character(),\n",
    "        calls_made = numeric()\n",
    "    ) %>%\n",
    "    write_csv(log_path)\n",
    "}\n",
    "\n",
    "call_log = read_csv(log_path, col_types = cols(\n",
    "    date = col_character(),\n",
    "    calls_made = col_number()\n",
    "))"
   ]
  },
  {
   "cell_type": "code",
   "execution_count": 7,
   "id": "b651dc14",
   "metadata": {
    "scrolled": true
   },
   "outputs": [],
   "source": [
    "# generate how many calls we can make today\n",
    "todays_log <- call_log %>% filter(date == TODAY)\n",
    "if(nrow(todays_log) == 0){\n",
    "    calls_made_today <- 0\n",
    "}else{\n",
    "    calls_made_today <- todays_log[1,]$calls_made\n",
    "}\n",
    "calls_left_today <- MAX_CALLS_PER_DAY - calls_made_today"
   ]
  },
  {
   "cell_type": "code",
   "execution_count": 8,
   "id": "7612c988",
   "metadata": {},
   "outputs": [],
   "source": [
    "# prepare variables for botcheck to run\n",
    "myapp <- oauth_app('twitter', key=TWITTER_APP_CONSUMER_KEY, secret=TWITTER_APP_CONSUMER_SECRET)\n",
    "sig <- sign_oauth1.0(myapp, token=TWITTER_APP_ACCESS_TOKEN, token_secret=TWITTER_APP_ACCESS_SECRET)\n",
    "rapidapi_key <- BOTOMETER_API_KEY"
   ]
  },
  {
   "cell_type": "code",
   "execution_count": 9,
   "id": "7be219a7",
   "metadata": {},
   "outputs": [],
   "source": [
    "botcheck <- function(user, rapidapi_key){\n",
    "  # rapidapi key is the access token to botometer API in the rapidAPI platform\n",
    "  \n",
    "  users_url <- \"https://api.twitter.com/1.1/users/show.json?screen_name=\"\n",
    "  statuses_url <- \"https://api.twitter.com/1.1/statuses/user_timeline.json?screen_name=\"\n",
    "  search_url <- \"https://api.twitter.com/1.1/search/tweets.json?q=%40\"\n",
    "  rapidapi_url <- \"https://botometer-pro.p.rapidapi.com/4/check_account\"                                                # this line should be updated whenever the API updates\n",
    "  opts = \"&count=200\"\n",
    "  \n",
    "  userdata = GET(paste0(users_url, user, opts), config = sig)\n",
    "  tweets = GET(paste0(statuses_url, user, opts), config = sig)\n",
    "  mentions = GET(paste0(search_url, user, opts), config = sig)\n",
    "  \n",
    "  body = list(timeline = content(tweets, type = \"application/json\"), \n",
    "              mentions = content(mentions, type = \"application/json\"), \n",
    "              user = content(userdata, type = \"application/json\"))\n",
    "  body_json = RJSONIO::toJSON(body, auto_unbox = T, pretty = T)\n",
    "  result = POST(rapidapi_url, \n",
    "                encode = \"json\", add_headers(`X-RapidAPI-Key` = rapidapi_key), \n",
    "                body = body_json)\n",
    "  return(content(result, as = 'text', encoding = 'UTF-8'))\n",
    "}"
   ]
  },
  {
   "cell_type": "code",
   "execution_count": 10,
   "id": "9b24f065",
   "metadata": {},
   "outputs": [],
   "source": [
    "get_next_botometer_score <- function(){\n",
    "    twitter_usernames = twitter_usernames %>% arrange(!is.na(date_checked), date_checked)\n",
    "    next_username <- twitter_usernames[1,]$username\n",
    "    response <- botcheck(next_username, rapidapi_key)\n",
    "    scores <- response %>% fromJSON()\n",
    "    if(!is.null(scores[['error']])){\n",
    "        twitter_usernames[1,] = list(\n",
    "            username = next_username,\n",
    "            score_cap_english = -999,\n",
    "            score_cap_universal = -999,\n",
    "            scores_raw_english = -999,\n",
    "            scores_raw_universal = -999,\n",
    "            date_checked = TODAY\n",
    "        )        \n",
    "    }else{\n",
    "        twitter_usernames[1,] = list(\n",
    "            username = next_username,\n",
    "            score_cap_english = scores$cap[['english']],\n",
    "            score_cap_universal = scores$cap[['universal']],\n",
    "            score_raw_english = scores$raw_scores$english[['overall']],\n",
    "            score_raw_universal = scores$raw_scores$universal[['overall']],\n",
    "            date_checked = TODAY\n",
    "        )\n",
    "    }\n",
    "    return(twitter_usernames)\n",
    "}"
   ]
  },
  {
   "cell_type": "code",
   "execution_count": 11,
   "id": "4805277c",
   "metadata": {},
   "outputs": [],
   "source": [
    "log_call <- function(){\n",
    "    todays_log <- call_log %>% filter(date == TODAY)\n",
    "    if(todays_log %>% nrow() == 0){\n",
    "        call_log[1,] = list(\n",
    "            date = TODAY,\n",
    "            calls_made = 1\n",
    "        )\n",
    "    }else{\n",
    "        calls_made <- call_log[which(call_log$date == TODAY),]$calls_made\n",
    "        call_log[which(call_log$date == TODAY),]$calls_made <- calls_made + 1\n",
    "    }\n",
    "    return(call_log)\n",
    "}"
   ]
  },
  {
   "cell_type": "code",
   "execution_count": 12,
   "id": "94d58ba8",
   "metadata": {
    "scrolled": true
   },
   "outputs": [
    {
     "ename": "ERROR",
     "evalue": "Error in curl::curl_fetch_memory(url, handle = handle): Operation was aborted by an application callback\n",
     "output_type": "error",
     "traceback": [
      "Error in curl::curl_fetch_memory(url, handle = handle): Operation was aborted by an application callback\nTraceback:\n",
      "1. get_next_botometer_score()",
      "2. botcheck(next_username, rapidapi_key)   # at line 4 of file <text>",
      "3. POST(rapidapi_url, encode = \"json\", add_headers(`X-RapidAPI-Key` = rapidapi_key), \n .     body = body_json)   # at line 18-20 of file <text>",
      "4. request_perform(req, hu$handle$handle)",
      "5. request_fetch(req$output, req$url, handle)",
      "6. request_fetch.write_memory(req$output, req$url, handle)",
      "7. curl::curl_fetch_memory(url, handle = handle)"
     ]
    }
   ],
   "source": [
    "for(val in c(1:BATCH_CALLS_LIMIT)){\n",
    "    if(calls_left_today > 0){\n",
    "        twitter_usernames <- get_next_botometer_score()\n",
    "        write_csv(twitter_usernames, twitter_usernames_botometer_path)\n",
    "        call_log <- log_call()\n",
    "        write_csv(call_log, log_path)\n",
    "        calls_left_today <- calls_left_today - 1\n",
    "        Sys.sleep(5);\n",
    "    }else{\n",
    "        print('no calls left today')\n",
    "    }\n",
    "}"
   ]
  },
  {
   "cell_type": "code",
   "execution_count": null,
   "id": "f9e2e28a",
   "metadata": {},
   "outputs": [],
   "source": []
  }
 ],
 "metadata": {
  "kernelspec": {
   "display_name": "R",
   "language": "R",
   "name": "ir"
  },
  "language_info": {
   "codemirror_mode": "r",
   "file_extension": ".r",
   "mimetype": "text/x-r-source",
   "name": "R",
   "pygments_lexer": "r",
   "version": "4.2.1"
  }
 },
 "nbformat": 4,
 "nbformat_minor": 5
}
