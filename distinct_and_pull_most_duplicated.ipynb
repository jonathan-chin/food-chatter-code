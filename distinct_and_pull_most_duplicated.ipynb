{
 "cells": [
  {
   "cell_type": "code",
   "execution_count": 1,
   "id": "0eb8b10b",
   "metadata": {},
   "outputs": [
    {
     "name": "stderr",
     "output_type": "stream",
     "text": [
      "Loading required package: pacman\n",
      "\n"
     ]
    }
   ],
   "source": [
    "# load and optionally install required packages\n",
    "if (!require('pacman')) install.packages('pacman')\n",
    "pacman::p_load(\n",
    "    dplyr,\n",
    "    readr,\n",
    "    scales\n",
    ")"
   ]
  },
  {
   "cell_type": "code",
   "execution_count": 2,
   "id": "f5365e2d",
   "metadata": {},
   "outputs": [
    {
     "name": "stderr",
     "output_type": "stream",
     "text": [
      "\u001b[1mRows: \u001b[22m\u001b[34m558120\u001b[39m \u001b[1mColumns: \u001b[22m\u001b[34m51\u001b[39m\n",
      "\u001b[36m──\u001b[39m \u001b[1mColumn specification\u001b[22m \u001b[36m───────────────────────────────────────────────────────────────────────────────────────────────────────────────────\u001b[39m\n",
      "\u001b[1mDelimiter:\u001b[22m \",\"\n",
      "\u001b[31mchr\u001b[39m (31): content, domain_url, images.url, lang, matched_profile, noise_cate...\n",
      "\u001b[32mdbl\u001b[39m (19): engagement, fluency_level, porn_level, reach, sentiment, url_views...\n",
      "\u001b[33mlgl\u001b[39m  (1): title\n",
      "\n",
      "\u001b[36mℹ\u001b[39m Use `spec()` to retrieve the full column specification for this data.\n",
      "\u001b[36mℹ\u001b[39m Specify the column types or set `show_col_types = FALSE` to quiet this message.\n"
     ]
    }
   ],
   "source": [
    "data <- read_csv('./data/generated/debotted_combined.csv')"
   ]
  },
  {
   "cell_type": "code",
   "execution_count": 3,
   "id": "9b8e0fe2",
   "metadata": {},
   "outputs": [
    {
     "name": "stderr",
     "output_type": "stream",
     "text": [
      "\u001b[1m\u001b[22mSelecting by count\n"
     ]
    }
   ],
   "source": [
    "top_20_retweeted <- data %>% group_by(content) %>% summarise(\n",
    "    \"count\" = n()\n",
    ") %>%\n",
    "arrange(desc(count)) %>%\n",
    "top_n(20)"
   ]
  },
  {
   "cell_type": "code",
   "execution_count": 13,
   "id": "910d42b2",
   "metadata": {},
   "outputs": [],
   "source": [
    "top_20_retweeted_with_dates <- data %>%\n",
    "filter(content %in% top_20_retweeted$content) %>%\n",
    "select(content, published)"
   ]
  },
  {
   "cell_type": "code",
   "execution_count": 14,
   "id": "3a989ef3",
   "metadata": {},
   "outputs": [],
   "source": [
    "top_20_retweeted %>% write_csv('./data/generated/top_20_duplicated_tweets.csv')\n",
    "top_20_retweeted_with_dates %>% write_csv('./data/generated/top_20_duplicated_tweets_with_dates.csv')"
   ]
  },
  {
   "cell_type": "code",
   "execution_count": 5,
   "id": "8b12f488",
   "metadata": {},
   "outputs": [],
   "source": [
    "data.distinct <- data %>% distinct(content)"
   ]
  },
  {
   "cell_type": "code",
   "execution_count": 6,
   "id": "f573b9d0",
   "metadata": {},
   "outputs": [
    {
     "data": {
      "text/html": [
       "129101"
      ],
      "text/latex": [
       "129101"
      ],
      "text/markdown": [
       "129101"
      ],
      "text/plain": [
       "[1] 129101"
      ]
     },
     "metadata": {},
     "output_type": "display_data"
    }
   ],
   "source": [
    "data.distinct %>% nrow()"
   ]
  },
  {
   "cell_type": "code",
   "execution_count": 19,
   "id": "51e97497",
   "metadata": {},
   "outputs": [
    {
     "data": {
      "text/html": [
       "'23%'"
      ],
      "text/latex": [
       "'23\\%'"
      ],
      "text/markdown": [
       "'23%'"
      ],
      "text/plain": [
       "[1] \"23%\""
      ]
     },
     "metadata": {},
     "output_type": "display_data"
    }
   ],
   "source": [
    "data.count <- data %>% nrow()\n",
    "data.distinct.count <- data.distinct %>% nrow()\n",
    "percent(data.distinct.count / data.count)"
   ]
  },
  {
   "cell_type": "code",
   "execution_count": 20,
   "id": "2dcb88e8",
   "metadata": {},
   "outputs": [],
   "source": [
    "data.distinct %>% write_csv('./data/generated/debotted_combined_distinct.csv')"
   ]
  }
 ],
 "metadata": {
  "kernelspec": {
   "display_name": "R",
   "language": "R",
   "name": "ir"
  },
  "language_info": {
   "codemirror_mode": "r",
   "file_extension": ".r",
   "mimetype": "text/x-r-source",
   "name": "R",
   "pygments_lexer": "r",
   "version": "4.2.1"
  }
 },
 "nbformat": 4,
 "nbformat_minor": 5
}
